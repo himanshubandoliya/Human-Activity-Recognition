{
 "cells": [
  {
   "cell_type": "code",
   "execution_count": 1,
   "metadata": {},
   "outputs": [],
   "source": [
    "import pandas as pd\n",
    "import numpy as np"
   ]
  },
  {
   "cell_type": "code",
   "execution_count": 2,
   "metadata": {},
   "outputs": [],
   "source": [
    "# Activities are the class labels\n",
    "# It is a 6 class classification\n",
    "ACTIVITIES = {\n",
    "    0: 'WALKING',\n",
    "    1: 'WALKING_UPSTAIRS',\n",
    "    2: 'WALKING_DOWNSTAIRS',\n",
    "    3: 'SITTING',\n",
    "    4: 'STANDING',\n",
    "    5: 'LAYING',\n",
    "}\n",
    "\n",
    "# Utility function to print the confusion matrix\n",
    "def confusion_matrix(Y_true, Y_pred):\n",
    "    Y_true = pd.Series([ACTIVITIES[y] for y in np.argmax(Y_true, axis=1)])\n",
    "    Y_pred = pd.Series([ACTIVITIES[y] for y in np.argmax(Y_pred, axis=1)])\n",
    "\n",
    "    return pd.crosstab(Y_true, Y_pred, rownames=['True'], colnames=['Pred'])"
   ]
  },
  {
   "cell_type": "markdown",
   "metadata": {},
   "source": [
    "### Data"
   ]
  },
  {
   "cell_type": "code",
   "execution_count": 3,
   "metadata": {},
   "outputs": [],
   "source": [
    "# Data directory\n",
    "DATADIR = 'UCI_HAR_Dataset'"
   ]
  },
  {
   "cell_type": "code",
   "execution_count": 4,
   "metadata": {},
   "outputs": [],
   "source": [
    "# Raw data signals\n",
    "# Signals are from Accelerometer and Gyroscope\n",
    "# The signals are in x,y,z directions\n",
    "# Sensor signals are filtered to have only body acceleration\n",
    "# excluding the acceleration due to gravity\n",
    "# Triaxial acceleration from the accelerometer is total acceleration\n",
    "SIGNALS = [\n",
    "    \"body_acc_x\",\n",
    "    \"body_acc_y\",\n",
    "    \"body_acc_z\",\n",
    "    \"body_gyro_x\",\n",
    "    \"body_gyro_y\",\n",
    "    \"body_gyro_z\",\n",
    "    \"total_acc_x\",\n",
    "    \"total_acc_y\",\n",
    "    \"total_acc_z\"\n",
    "]"
   ]
  },
  {
   "cell_type": "code",
   "execution_count": 5,
   "metadata": {},
   "outputs": [],
   "source": [
    "# Utility function to read the data from csv file\n",
    "def _read_csv(filename):\n",
    "    return pd.read_csv(filename, delim_whitespace=True, header=None)\n",
    "\n",
    "# Utility function to load the load\n",
    "def load_signals(subset):\n",
    "    signals_data = []\n",
    "\n",
    "    for signal in SIGNALS:\n",
    "        filename = f'UCI_HAR_Dataset/{subset}/Inertial Signals/{signal}_{subset}.txt'\n",
    "        signals_data.append(\n",
    "            _read_csv(filename).as_matrix()\n",
    "        ) \n",
    "\n",
    "    # Transpose is used to change the dimensionality of the output,\n",
    "    # aggregating the signals by combination of sample/timestep.\n",
    "    # Resultant shape is (7352 train/2947 test samples, 128 timesteps, 9 signals)\n",
    "    return np.transpose(signals_data, (1, 2, 0))"
   ]
  },
  {
   "cell_type": "code",
   "execution_count": 6,
   "metadata": {},
   "outputs": [],
   "source": [
    "\n",
    "def load_y(subset):\n",
    "    \"\"\"\n",
    "    The objective that we are trying to predict is a integer, from 1 to 6,\n",
    "    that represents a human activity. We return a binary representation of \n",
    "    every sample objective as a 6 bits vector using One Hot Encoding\n",
    "    (https://pandas.pydata.org/pandas-docs/stable/generated/pandas.get_dummies.html)\n",
    "    \"\"\"\n",
    "    filename = f'UCI_HAR_Dataset/{subset}/y_{subset}.txt'\n",
    "    y = _read_csv(filename)[0]\n",
    "\n",
    "    return pd.get_dummies(y).as_matrix()"
   ]
  },
  {
   "cell_type": "code",
   "execution_count": 7,
   "metadata": {},
   "outputs": [],
   "source": [
    "def load_data():\n",
    "    \"\"\"\n",
    "    Obtain the dataset from multiple files.\n",
    "    Returns: X_train, X_test, y_train, y_test\n",
    "    \"\"\"\n",
    "    X_train, X_test = load_signals('train'), load_signals('test')\n",
    "    y_train, y_test = load_y('train'), load_y('test')\n",
    "\n",
    "    return X_train, X_test, y_train, y_test"
   ]
  },
  {
   "cell_type": "code",
   "execution_count": 8,
   "metadata": {},
   "outputs": [],
   "source": [
    "# Importing tensorflow\n",
    "np.random.seed(42)\n",
    "import tensorflow as tf\n",
    "tf.set_random_seed(42)"
   ]
  },
  {
   "cell_type": "code",
   "execution_count": 9,
   "metadata": {},
   "outputs": [],
   "source": [
    "# Configuring a session\n",
    "session_conf = tf.ConfigProto(\n",
    "    intra_op_parallelism_threads=1,\n",
    "    inter_op_parallelism_threads=1\n",
    ")"
   ]
  },
  {
   "cell_type": "code",
   "execution_count": 10,
   "metadata": {},
   "outputs": [
    {
     "name": "stderr",
     "output_type": "stream",
     "text": [
      "Using TensorFlow backend.\n"
     ]
    }
   ],
   "source": [
    "# Import Keras\n",
    "from keras import backend as K\n",
    "sess = tf.Session(graph=tf.get_default_graph(), config=session_conf)\n",
    "K.set_session(sess)"
   ]
  },
  {
   "cell_type": "code",
   "execution_count": 11,
   "metadata": {},
   "outputs": [],
   "source": [
    "# Importing libraries\n",
    "from keras.models import Sequential\n",
    "from keras.layers import LSTM\n",
    "from keras.layers.core import Dense, Dropout\n",
    "from keras.layers.normalization import BatchNormalization"
   ]
  },
  {
   "cell_type": "code",
   "execution_count": 12,
   "metadata": {},
   "outputs": [],
   "source": [
    "# Initializing parameters\n",
    "epochs = 30\n",
    "batch_size = 16\n",
    "n_hidden = 32"
   ]
  },
  {
   "cell_type": "code",
   "execution_count": 13,
   "metadata": {},
   "outputs": [],
   "source": [
    "# Utility function to count the number of classes\n",
    "def _count_classes(y):\n",
    "    return len(set([tuple(category) for category in y]))"
   ]
  },
  {
   "cell_type": "code",
   "execution_count": 14,
   "metadata": {},
   "outputs": [
    {
     "name": "stderr",
     "output_type": "stream",
     "text": [
      "C:\\Users\\hbandoli\\Anaconda3.0\\lib\\site-packages\\ipykernel_launcher.py:12: FutureWarning: Method .as_matrix will be removed in a future version. Use .values instead.\n",
      "  if sys.path[0] == '':\n"
     ]
    }
   ],
   "source": [
    "# Loading the train and test data\n",
    "X_train, X_test, Y_train, Y_test = load_data()"
   ]
  },
  {
   "cell_type": "code",
   "execution_count": 15,
   "metadata": {},
   "outputs": [
    {
     "name": "stdout",
     "output_type": "stream",
     "text": [
      "128\n",
      "9\n",
      "7352\n"
     ]
    }
   ],
   "source": [
    "timesteps = len(X_train[0])\n",
    "input_dim = len(X_train[0][0])\n",
    "n_classes = _count_classes(Y_train)\n",
    "\n",
    "print(timesteps)\n",
    "print(input_dim)\n",
    "print(len(X_train))"
   ]
  },
  {
   "cell_type": "markdown",
   "metadata": {},
   "source": [
    "- Defining the Architecture of LSTM"
   ]
  },
  {
   "cell_type": "code",
   "execution_count": 16,
   "metadata": {},
   "outputs": [
    {
     "name": "stdout",
     "output_type": "stream",
     "text": [
      "WARNING:tensorflow:From C:\\Users\\hbandoli\\Anaconda3.0\\lib\\site-packages\\tensorflow\\python\\framework\\op_def_library.py:263: colocate_with (from tensorflow.python.framework.ops) is deprecated and will be removed in a future version.\n",
      "Instructions for updating:\n",
      "Colocations handled automatically by placer.\n",
      "WARNING:tensorflow:From C:\\Users\\hbandoli\\Anaconda3.0\\lib\\site-packages\\keras\\backend\\tensorflow_backend.py:3445: calling dropout (from tensorflow.python.ops.nn_ops) with keep_prob is deprecated and will be removed in a future version.\n",
      "Instructions for updating:\n",
      "Please use `rate` instead of `keep_prob`. Rate should be set to `rate = 1 - keep_prob`.\n",
      "_________________________________________________________________\n",
      "Layer (type)                 Output Shape              Param #   \n",
      "=================================================================\n",
      "lstm_1 (LSTM)                (None, 32)                5376      \n",
      "_________________________________________________________________\n",
      "dropout_1 (Dropout)          (None, 32)                0         \n",
      "_________________________________________________________________\n",
      "dense_1 (Dense)              (None, 6)                 198       \n",
      "=================================================================\n",
      "Total params: 5,574\n",
      "Trainable params: 5,574\n",
      "Non-trainable params: 0\n",
      "_________________________________________________________________\n"
     ]
    }
   ],
   "source": [
    "# Initiliazing the sequential model\n",
    "model = Sequential()\n",
    "# Configuring the parameters\n",
    "model.add(LSTM(n_hidden, input_shape=(timesteps, input_dim)))\n",
    "# Adding a dropout layer\n",
    "model.add(Dropout(0.5))\n",
    "# Adding a dense output layer with sigmoid activation\n",
    "model.add(Dense(n_classes, activation='sigmoid'))\n",
    "model.summary()"
   ]
  },
  {
   "cell_type": "code",
   "execution_count": 17,
   "metadata": {},
   "outputs": [],
   "source": [
    "# Compiling the model\n",
    "model.compile(loss='categorical_crossentropy',\n",
    "              optimizer='rmsprop',\n",
    "              metrics=['accuracy'])"
   ]
  },
  {
   "cell_type": "code",
   "execution_count": 18,
   "metadata": {},
   "outputs": [
    {
     "name": "stdout",
     "output_type": "stream",
     "text": [
      "WARNING:tensorflow:From C:\\Users\\hbandoli\\Anaconda3.0\\lib\\site-packages\\tensorflow\\python\\ops\\math_ops.py:3066: to_int32 (from tensorflow.python.ops.math_ops) is deprecated and will be removed in a future version.\n",
      "Instructions for updating:\n",
      "Use tf.cast instead.\n",
      "Train on 7352 samples, validate on 2947 samples\n",
      "Epoch 1/30\n",
      "7352/7352 [==============================] - 33s 4ms/step - loss: 1.3233 - acc: 0.4332 - val_loss: 1.1553 - val_acc: 0.4649\n",
      "Epoch 2/30\n",
      "7352/7352 [==============================] - 30s 4ms/step - loss: 1.0250 - acc: 0.5536 - val_loss: 1.0156 - val_acc: 0.5806: 1.0503 - acc: 0.5 - E\n",
      "Epoch 3/30\n",
      "7352/7352 [==============================] - 29s 4ms/step - loss: 0.8296 - acc: 0.6432 - val_loss: 0.7981 - val_acc: 0.6043\n",
      "Epoch 4/30\n",
      "7352/7352 [==============================] - 29s 4ms/step - loss: 0.7209 - acc: 0.6542 - val_loss: 0.7564 - val_acc: 0.59557262 -  - ETA: 2s - loss: 0.7 - ETA: 1s - l - ETA: 0s - loss: 0.7219 - acc: \n",
      "Epoch 5/30\n",
      "7352/7352 [==============================] - 29s 4ms/step - loss: 0.6490 - acc: 0.6702 - val_loss: 0.7268 - val_acc: 0.6237 1s - lo\n",
      "Epoch 6/30\n",
      "7352/7352 [==============================] - 29s 4ms/step - loss: 0.6264 - acc: 0.6780 - val_loss: 0.7316 - val_acc: 0.6206c - ETA: 2s - loss: 0. - ETA: 1s - loss:\n",
      "Epoch 7/30\n",
      "7352/7352 [==============================] - 29s 4ms/step - loss: 0.5941 - acc: 0.7065 - val_loss: 0.7197 - val_acc: 0.7017\n",
      "Epoch 8/30\n",
      "7352/7352 [==============================] - 30s 4ms/step - loss: 0.5716 - acc: 0.7291 - val_loss: 0.7148 - val_acc: 0.7279- loss - ETA: 1s - loss: 0.\n",
      "Epoch 9/30\n",
      "7352/7352 [==============================] - 29s 4ms/step - loss: 0.5232 - acc: 0.7788 - val_loss: 0.6354 - val_acc: 0.7448- ETA: 10s - loss: 0\n",
      "Epoch 10/30\n",
      "7352/7352 [==============================] - 29s 4ms/step - loss: 0.4901 - acc: 0.7930 - val_loss: 0.6373 - val_acc: 0.7513\n",
      "Epoch 11/30\n",
      "7352/7352 [==============================] - 29s 4ms/step - loss: 0.4514 - acc: 0.8041 - val_loss: 0.6609 - val_acc: 0.7506\n",
      "Epoch 12/30\n",
      "7352/7352 [==============================] - 30s 4ms/step - loss: 0.4343 - acc: 0.8202 - val_loss: 0.6811 - val_acc: 0.7669  - ETA: 0s - loss: 0.4347 - acc: 0.\n",
      "Epoch 13/30\n",
      "7352/7352 [==============================] - 30s 4ms/step - loss: 0.4740 - acc: 0.8380 - val_loss: 0.5476 - val_acc: 0.8409\n",
      "Epoch 14/30\n",
      "7352/7352 [==============================] - 30s 4ms/step - loss: 0.3630 - acc: 0.8841 - val_loss: 0.6571 - val_acc: 0.8290\n",
      "Epoch 15/30\n",
      "7352/7352 [==============================] - 30s 4ms/step - loss: 0.3168 - acc: 0.9081 - val_loss: 0.5576 - val_acc: 0.8633 0.3234 - ETA: 3s - loss: 0.32 - ETA:  - ETA: 0s - loss: 0.3175 - acc: 0.90 - ETA: 0s - loss: 0.3171 - acc: \n",
      "Epoch 16/30\n",
      "7352/7352 [==============================] - 33s 4ms/step - loss: 0.2820 - acc: 0.9169 - val_loss: 0.5482 - val_acc: 0.8633\n",
      "Epoch 17/30\n",
      "7352/7352 [==============================] - 34s 5ms/step - loss: 0.2524 - acc: 0.9219 - val_loss: 0.4965 - val_acc: 0.8768c\n",
      "Epoch 18/30\n",
      "7352/7352 [==============================] - 33s 5ms/step - loss: 0.2359 - acc: 0.9346 - val_loss: 0.8069 - val_acc: 0.8107\n",
      "Epoch 19/30\n",
      "7352/7352 [==============================] - 33s 4ms/step - loss: 0.2083 - acc: 0.9382 - val_loss: 0.6350 - val_acc: 0.8439\n",
      "Epoch 20/30\n",
      "7352/7352 [==============================] - 33s 4ms/step - loss: 0.1900 - acc: 0.9402 - val_loss: 0.7828 - val_acc: 0.8442\n",
      "Epoch 21/30\n",
      "7352/7352 [==============================] - 33s 4ms/step - loss: 0.1966 - acc: 0.9391 - val_loss: 0.4236 - val_acc: 0.8850\n",
      "Epoch 22/30\n",
      "7352/7352 [==============================] - 33s 4ms/step - loss: 0.1937 - acc: 0.9402 - val_loss: 0.4633 - val_acc: 0.8846\n",
      "Epoch 23/30\n",
      "7352/7352 [==============================] - 33s 5ms/step - loss: 0.2112 - acc: 0.9376 - val_loss: 0.5757 - val_acc: 0.8633\n",
      "Epoch 24/30\n",
      "7352/7352 [==============================] - 33s 5ms/step - loss: 0.1882 - acc: 0.9389 - val_loss: 0.4698 - val_acc: 0.8748\n",
      "Epoch 25/30\n",
      "7352/7352 [==============================] - 32s 4ms/step - loss: 0.1704 - acc: 0.9436 - val_loss: 0.6065 - val_acc: 0.8592\n",
      "Epoch 26/30\n",
      "7352/7352 [==============================] - 30s 4ms/step - loss: 0.1592 - acc: 0.9453 - val_loss: 0.8993 - val_acc: 0.8558\n",
      "Epoch 27/30\n",
      "7352/7352 [==============================] - 30s 4ms/step - loss: 0.1836 - acc: 0.9426 - val_loss: 0.5185 - val_acc: 0.9013\n",
      "Epoch 28/30\n",
      "7352/7352 [==============================] - 31s 4ms/step - loss: 0.1672 - acc: 0.9431 - val_loss: 0.4778 - val_acc: 0.9013 - ETA: - ETA\n",
      "Epoch 29/30\n",
      "7352/7352 [==============================] - 30s 4ms/step - loss: 0.1754 - acc: 0.9480 - val_loss: 0.6840 - val_acc: 0.8741\n",
      "Epoch 30/30\n",
      "7352/7352 [==============================] - 31s 4ms/step - loss: 0.1837 - acc: 0.9436 - val_loss: 0.5227 - val_acc: 0.8914  - ETA - ETA: 5s - loss: 0.1875 - acc:  \n"
     ]
    },
    {
     "data": {
      "text/plain": [
       "<keras.callbacks.History at 0x294eb4a5b00>"
      ]
     },
     "execution_count": 18,
     "metadata": {},
     "output_type": "execute_result"
    }
   ],
   "source": [
    "# Training the model\n",
    "model.fit(X_train,\n",
    "          Y_train,\n",
    "          batch_size=batch_size,\n",
    "          validation_data=(X_test, Y_test),\n",
    "          epochs=epochs)"
   ]
  },
  {
   "cell_type": "code",
   "execution_count": 19,
   "metadata": {},
   "outputs": [
    {
     "name": "stdout",
     "output_type": "stream",
     "text": [
      "2947/2947 [==============================] - 1s 316us/step\n"
     ]
    }
   ],
   "source": [
    "score = model.evaluate(X_test, Y_test)"
   ]
  },
  {
   "cell_type": "code",
   "execution_count": 20,
   "metadata": {},
   "outputs": [
    {
     "data": {
      "text/plain": [
       "[0.5226698747499483, 0.8914149983033594]"
      ]
     },
     "execution_count": 20,
     "metadata": {},
     "output_type": "execute_result"
    }
   ],
   "source": [
    "score"
   ]
  },
  {
   "cell_type": "markdown",
   "metadata": {},
   "source": [
    "- With a simple 2 layer architecture we got 90.09% accuracy and a loss of 0.30\n",
    "- We can further imporve the performace with Hyperparameter tuning"
   ]
  },
  {
   "cell_type": "markdown",
   "metadata": {},
   "source": [
    "<h2> Changing dropout rate to 0.2</h2>"
   ]
  },
  {
   "cell_type": "code",
   "execution_count": 22,
   "metadata": {},
   "outputs": [],
   "source": [
    "# Initializing parameters\n",
    "epochs = 30\n",
    "batch_size = 16\n",
    "n_hidden = 32"
   ]
  },
  {
   "cell_type": "code",
   "execution_count": 23,
   "metadata": {},
   "outputs": [
    {
     "name": "stdout",
     "output_type": "stream",
     "text": [
      "_________________________________________________________________\n",
      "Layer (type)                 Output Shape              Param #   \n",
      "=================================================================\n",
      "lstm_2 (LSTM)                (None, 32)                5376      \n",
      "_________________________________________________________________\n",
      "dropout_2 (Dropout)          (None, 32)                0         \n",
      "_________________________________________________________________\n",
      "dense_2 (Dense)              (None, 6)                 198       \n",
      "=================================================================\n",
      "Total params: 5,574\n",
      "Trainable params: 5,574\n",
      "Non-trainable params: 0\n",
      "_________________________________________________________________\n"
     ]
    }
   ],
   "source": [
    "# Initiliazing the sequential model\n",
    "model = Sequential()\n",
    "# Configuring the parameters\n",
    "model.add(LSTM(n_hidden, input_shape=(timesteps, input_dim)))\n",
    "# Adding a dropout layer\n",
    "model.add(Dropout(0.2))\n",
    "# Adding a dense output layer with sigmoid activation\n",
    "model.add(Dense(n_classes, activation='sigmoid'))\n",
    "model.summary()"
   ]
  },
  {
   "cell_type": "code",
   "execution_count": 24,
   "metadata": {},
   "outputs": [],
   "source": [
    "# Compiling the model\n",
    "model.compile(loss='categorical_crossentropy',\n",
    "              optimizer='rmsprop',\n",
    "              metrics=['accuracy'])"
   ]
  },
  {
   "cell_type": "code",
   "execution_count": 25,
   "metadata": {},
   "outputs": [
    {
     "name": "stdout",
     "output_type": "stream",
     "text": [
      "Train on 7352 samples, validate on 2947 samples\n",
      "Epoch 1/30\n",
      "7352/7352 [==============================] - 69s 9ms/step - loss: 1.1882 - acc: 0.5069 - val_loss: 1.0581 - val_acc: 0.5002\n",
      "Epoch 2/30\n",
      "7352/7352 [==============================] - 67s 9ms/step - loss: 0.8497 - acc: 0.6107 - val_loss: 0.7914 - val_acc: 0.6047\n",
      "Epoch 3/30\n",
      "7352/7352 [==============================] - 67s 9ms/step - loss: 0.7486 - acc: 0.6391 - val_loss: 0.8275 - val_acc: 0.5711\n",
      "Epoch 4/30\n",
      "7352/7352 [==============================] - 66s 9ms/step - loss: 0.7175 - acc: 0.6442 - val_loss: 0.7364 - val_acc: 0.6193\n",
      "Epoch 5/30\n",
      "7352/7352 [==============================] - 65s 9ms/step - loss: 0.6340 - acc: 0.7125 - val_loss: 0.6244 - val_acc: 0.7319\n",
      "Epoch 6/30\n",
      "7352/7352 [==============================] - 64s 9ms/step - loss: 0.5213 - acc: 0.7779 - val_loss: 0.5573 - val_acc: 0.7604\n",
      "Epoch 7/30\n",
      "7352/7352 [==============================] - 62s 8ms/step - loss: 0.4497 - acc: 0.8187 - val_loss: 0.5333 - val_acc: 0.7788\n",
      "Epoch 8/30\n",
      "7352/7352 [==============================] - 64s 9ms/step - loss: 0.3673 - acc: 0.8682 - val_loss: 0.4685 - val_acc: 0.8412\n",
      "Epoch 9/30\n",
      "7352/7352 [==============================] - 63s 9ms/step - loss: 0.3012 - acc: 0.9008 - val_loss: 0.5120 - val_acc: 0.8283\n",
      "Epoch 10/30\n",
      "7352/7352 [==============================] - 63s 9ms/step - loss: 0.2386 - acc: 0.9217 - val_loss: 0.3539 - val_acc: 0.8755\n",
      "Epoch 11/30\n",
      "7352/7352 [==============================] - 64s 9ms/step - loss: 0.2144 - acc: 0.9328 - val_loss: 0.4292 - val_acc: 0.8670\n",
      "Epoch 12/30\n",
      "7352/7352 [==============================] - 63s 9ms/step - loss: 0.2069 - acc: 0.9362 - val_loss: 0.3192 - val_acc: 0.8911\n",
      "Epoch 13/30\n",
      "7352/7352 [==============================] - 63s 9ms/step - loss: 0.1779 - acc: 0.9408 - val_loss: 0.4056 - val_acc: 0.8728\n",
      "Epoch 14/30\n",
      "7352/7352 [==============================] - 65s 9ms/step - loss: 0.1734 - acc: 0.9406 - val_loss: 0.2888 - val_acc: 0.8948\n",
      "Epoch 15/30\n",
      "7352/7352 [==============================] - 64s 9ms/step - loss: 0.1596 - acc: 0.9437 - val_loss: 0.2778 - val_acc: 0.9067\n",
      "Epoch 16/30\n",
      "7352/7352 [==============================] - 64s 9ms/step - loss: 0.1723 - acc: 0.9414 - val_loss: 0.3044 - val_acc: 0.9013\n",
      "Epoch 17/30\n",
      "7352/7352 [==============================] - 63s 9ms/step - loss: 0.1573 - acc: 0.9452 - val_loss: 0.3017 - val_acc: 0.9033\n",
      "Epoch 18/30\n",
      "7352/7352 [==============================] - 63s 9ms/step - loss: 0.1572 - acc: 0.9493 - val_loss: 0.3158 - val_acc: 0.8839\n",
      "Epoch 19/30\n",
      "7352/7352 [==============================] - 61s 8ms/step - loss: 0.1567 - acc: 0.9449 - val_loss: 0.3592 - val_acc: 0.8901\n",
      "Epoch 20/30\n",
      "7352/7352 [==============================] - 60s 8ms/step - loss: 0.1461 - acc: 0.9457 - val_loss: 0.4436 - val_acc: 0.8656\n",
      "Epoch 21/30\n",
      "7352/7352 [==============================] - 61s 8ms/step - loss: 0.1467 - acc: 0.9470 - val_loss: 0.6342 - val_acc: 0.8507\n",
      "Epoch 22/30\n",
      "7352/7352 [==============================] - 60s 8ms/step - loss: 0.1568 - acc: 0.9490 - val_loss: 0.4641 - val_acc: 0.8839\n",
      "Epoch 23/30\n",
      "7352/7352 [==============================] - 61s 8ms/step - loss: 0.1464 - acc: 0.9499 - val_loss: 0.3113 - val_acc: 0.8996\n",
      "Epoch 24/30\n",
      "7352/7352 [==============================] - 60s 8ms/step - loss: 0.1506 - acc: 0.9495 - val_loss: 0.3408 - val_acc: 0.8948\n",
      "Epoch 25/30\n",
      "7352/7352 [==============================] - 60s 8ms/step - loss: 0.1379 - acc: 0.9512 - val_loss: 0.3737 - val_acc: 0.9094\n",
      "Epoch 26/30\n",
      "7352/7352 [==============================] - 60s 8ms/step - loss: 0.1540 - acc: 0.9474 - val_loss: 0.2832 - val_acc: 0.9108\n",
      "Epoch 27/30\n",
      "7352/7352 [==============================] - 60s 8ms/step - loss: 0.1463 - acc: 0.9517 - val_loss: 0.4342 - val_acc: 0.8829\n",
      "Epoch 28/30\n",
      "7352/7352 [==============================] - 60s 8ms/step - loss: 0.1392 - acc: 0.9493 - val_loss: 0.3413 - val_acc: 0.8911\n",
      "Epoch 29/30\n",
      "7352/7352 [==============================] - 60s 8ms/step - loss: 0.1397 - acc: 0.9499 - val_loss: 0.3892 - val_acc: 0.8901\n",
      "Epoch 30/30\n",
      "7352/7352 [==============================] - 60s 8ms/step - loss: 0.1463 - acc: 0.9517 - val_loss: 0.3022 - val_acc: 0.9016\n"
     ]
    },
    {
     "data": {
      "text/plain": [
       "<keras.callbacks.History at 0x227120db160>"
      ]
     },
     "execution_count": 25,
     "metadata": {},
     "output_type": "execute_result"
    }
   ],
   "source": [
    "# Training the model\n",
    "model.fit(X_train,\n",
    "          Y_train,\n",
    "          batch_size=batch_size,\n",
    "          validation_data=(X_test, Y_test),\n",
    "          epochs=epochs)"
   ]
  },
  {
   "cell_type": "code",
   "execution_count": 26,
   "metadata": {},
   "outputs": [
    {
     "name": "stdout",
     "output_type": "stream",
     "text": [
      "Pred                LAYING  SITTING  STANDING  WALKING  WALKING_DOWNSTAIRS  \\\n",
      "True                                                                         \n",
      "LAYING                 510        0        27        0                   0   \n",
      "SITTING                  0      420        67        3                   0   \n",
      "STANDING                 0      122       406        4                   0   \n",
      "WALKING                  0        0         0      452                  21   \n",
      "WALKING_DOWNSTAIRS       0        0         0        1                 415   \n",
      "WALKING_UPSTAIRS         0        6         0       10                   1   \n",
      "\n",
      "Pred                WALKING_UPSTAIRS  \n",
      "True                                  \n",
      "LAYING                             0  \n",
      "SITTING                            1  \n",
      "STANDING                           0  \n",
      "WALKING                           23  \n",
      "WALKING_DOWNSTAIRS                 4  \n",
      "WALKING_UPSTAIRS                 454  \n"
     ]
    }
   ],
   "source": [
    "# Confusion Matrix\n",
    "print(confusion_matrix(Y_test, model.predict(X_test)))"
   ]
  },
  {
   "cell_type": "code",
   "execution_count": 27,
   "metadata": {},
   "outputs": [
    {
     "name": "stdout",
     "output_type": "stream",
     "text": [
      "2947/2947 [==============================] - 2s 805us/step\n"
     ]
    }
   ],
   "source": [
    "score = model.evaluate(X_test, Y_test)"
   ]
  },
  {
   "cell_type": "code",
   "execution_count": 28,
   "metadata": {},
   "outputs": [
    {
     "data": {
      "text/plain": [
       "[0.3021738717609319, 0.9015948422124194]"
      ]
     },
     "execution_count": 28,
     "metadata": {},
     "output_type": "execute_result"
    }
   ],
   "source": [
    "score"
   ]
  },
  {
   "cell_type": "markdown",
   "metadata": {},
   "source": [
    "<h1> Model 3 :Adding Batch Normalization Layer</h1>"
   ]
  },
  {
   "cell_type": "code",
   "execution_count": 21,
   "metadata": {},
   "outputs": [],
   "source": [
    "# Initializing parameters\n",
    "epochs = 30\n",
    "batch_size = 32\n",
    "n_hidden = 128"
   ]
  },
  {
   "cell_type": "code",
   "execution_count": 22,
   "metadata": {},
   "outputs": [
    {
     "name": "stdout",
     "output_type": "stream",
     "text": [
      "_________________________________________________________________\n",
      "Layer (type)                 Output Shape              Param #   \n",
      "=================================================================\n",
      "lstm_2 (LSTM)                (None, 128)               70656     \n",
      "_________________________________________________________________\n",
      "batch_normalization_1 (Batch (None, 128)               512       \n",
      "_________________________________________________________________\n",
      "dropout_2 (Dropout)          (None, 128)               0         \n",
      "_________________________________________________________________\n",
      "dense_2 (Dense)              (None, 6)                 774       \n",
      "=================================================================\n",
      "Total params: 71,942\n",
      "Trainable params: 71,686\n",
      "Non-trainable params: 256\n",
      "_________________________________________________________________\n"
     ]
    }
   ],
   "source": [
    "# Initiliazing the sequential model\n",
    "model = Sequential()\n",
    "# Configuring the parameters\n",
    "model.add(LSTM(n_hidden, input_shape=(timesteps, input_dim)))\n",
    "model.add(BatchNormalization())\n",
    "# Adding a dropout layer\n",
    "model.add(Dropout(0.25))\n",
    "# Adding a dense output layer with sigmoid activation\n",
    "model.add(Dense(n_classes, activation='sigmoid'))\n",
    "model.summary()"
   ]
  },
  {
   "cell_type": "code",
   "execution_count": 23,
   "metadata": {},
   "outputs": [],
   "source": [
    "\n",
    "# Compiling the model\n",
    "model.compile(loss='categorical_crossentropy',\n",
    "              optimizer='rmsprop',\n",
    "              metrics=['accuracy'])"
   ]
  },
  {
   "cell_type": "code",
   "execution_count": 24,
   "metadata": {},
   "outputs": [
    {
     "name": "stdout",
     "output_type": "stream",
     "text": [
      "Train on 7352 samples, validate on 2947 samples\n",
      "Epoch 1/30\n",
      "7352/7352 [==============================] - 29s 4ms/step - loss: 0.9843 - acc: 0.5869 - val_loss: 0.9753 - val_acc: 0.6081\n",
      "Epoch 2/30\n",
      "7352/7352 [==============================] - 26s 4ms/step - loss: 0.7760 - acc: 0.6416 - val_loss: 0.7488 - val_acc: 0.6366\n",
      "Epoch 3/30\n",
      "7352/7352 [==============================] - 27s 4ms/step - loss: 0.6563 - acc: 0.6974 - val_loss: 0.7142 - val_acc: 0.6620\n",
      "Epoch 4/30\n",
      "7352/7352 [==============================] - 27s 4ms/step - loss: 0.5443 - acc: 0.7348 - val_loss: 0.6005 - val_acc: 0.7092\n",
      "Epoch 5/30\n",
      "7352/7352 [==============================] - 26s 4ms/step - loss: 0.3778 - acc: 0.8512 - val_loss: 0.4356 - val_acc: 0.8609\n",
      "Epoch 6/30\n",
      "7352/7352 [==============================] - 26s 4ms/step - loss: 0.2239 - acc: 0.9206 - val_loss: 0.3920 - val_acc: 0.8887\n",
      "Epoch 7/30\n",
      "7352/7352 [==============================] - 26s 4ms/step - loss: 0.1938 - acc: 0.9309 - val_loss: 0.3853 - val_acc: 0.8907\n",
      "Epoch 8/30\n",
      "7352/7352 [==============================] - 26s 4ms/step - loss: 0.1797 - acc: 0.9328 - val_loss: 0.2892 - val_acc: 0.9013\n",
      "Epoch 9/30\n",
      "7352/7352 [==============================] - 26s 4ms/step - loss: 0.1520 - acc: 0.9369 - val_loss: 0.2512 - val_acc: 0.9084\n",
      "Epoch 10/30\n",
      "7352/7352 [==============================] - 28s 4ms/step - loss: 0.1576 - acc: 0.9396 - val_loss: 0.2389 - val_acc: 0.9118\n",
      "Epoch 11/30\n",
      "7352/7352 [==============================] - 28s 4ms/step - loss: 0.1427 - acc: 0.9422 - val_loss: 0.3969 - val_acc: 0.8941\n",
      "Epoch 12/30\n",
      "7352/7352 [==============================] - 27s 4ms/step - loss: 0.1347 - acc: 0.9468 - val_loss: 0.2930 - val_acc: 0.9148\n",
      "Epoch 13/30\n",
      "7352/7352 [==============================] - 27s 4ms/step - loss: 0.1371 - acc: 0.9403 - val_loss: 0.2756 - val_acc: 0.9080\n",
      "Epoch 14/30\n",
      "7352/7352 [==============================] - 27s 4ms/step - loss: 0.1407 - acc: 0.9389 - val_loss: 0.2595 - val_acc: 0.9125\n",
      "Epoch 15/30\n",
      "7352/7352 [==============================] - 26s 4ms/step - loss: 0.1741 - acc: 0.9370 - val_loss: 0.2788 - val_acc: 0.9199\n",
      "Epoch 16/30\n",
      "7352/7352 [==============================] - 26s 4ms/step - loss: 0.1359 - acc: 0.9470 - val_loss: 0.2940 - val_acc: 0.9104\n",
      "Epoch 17/30\n",
      "7352/7352 [==============================] - 26s 4ms/step - loss: 0.1415 - acc: 0.9416 - val_loss: 0.3077 - val_acc: 0.8741\n",
      "Epoch 18/30\n",
      "7352/7352 [==============================] - 26s 4ms/step - loss: 0.1252 - acc: 0.9450 - val_loss: 0.4100 - val_acc: 0.8863\n",
      "Epoch 19/30\n",
      "7352/7352 [==============================] - 26s 4ms/step - loss: 0.1283 - acc: 0.9456 - val_loss: 0.3332 - val_acc: 0.9084\n",
      "Epoch 20/30\n",
      "7352/7352 [==============================] - 27s 4ms/step - loss: 0.1394 - acc: 0.9422 - val_loss: 0.3054 - val_acc: 0.9172\n",
      "Epoch 21/30\n",
      "7352/7352 [==============================] - 28s 4ms/step - loss: 0.1247 - acc: 0.9438 - val_loss: 0.3859 - val_acc: 0.9050\n",
      "Epoch 22/30\n",
      "7352/7352 [==============================] - 28s 4ms/step - loss: 0.1199 - acc: 0.9430 - val_loss: 0.3975 - val_acc: 0.9145\n",
      "Epoch 23/30\n",
      "7352/7352 [==============================] - 28s 4ms/step - loss: 0.1328 - acc: 0.9440 - val_loss: 0.2997 - val_acc: 0.9179\n",
      "Epoch 24/30\n",
      "7352/7352 [==============================] - 28s 4ms/step - loss: 0.1212 - acc: 0.9501 - val_loss: 0.4108 - val_acc: 0.9294\n",
      "Epoch 25/30\n",
      "7352/7352 [==============================] - 28s 4ms/step - loss: 0.1180 - acc: 0.9524 - val_loss: 0.4569 - val_acc: 0.9114\n",
      "Epoch 26/30\n",
      "7352/7352 [==============================] - 28s 4ms/step - loss: 0.1192 - acc: 0.9490 - val_loss: 0.4444 - val_acc: 0.9104\n",
      "Epoch 27/30\n",
      "7352/7352 [==============================] - 28s 4ms/step - loss: 0.1177 - acc: 0.9490 - val_loss: 0.2713 - val_acc: 0.9301\n",
      "Epoch 28/30\n",
      "7352/7352 [==============================] - 28s 4ms/step - loss: 0.1119 - acc: 0.9510 - val_loss: 0.3302 - val_acc: 0.9338\n",
      "Epoch 29/30\n",
      "7352/7352 [==============================] - 28s 4ms/step - loss: 0.1141 - acc: 0.9528 - val_loss: 0.3993 - val_acc: 0.9243\n",
      "Epoch 30/30\n",
      "7352/7352 [==============================] - 28s 4ms/step - loss: 0.1192 - acc: 0.9538 - val_loss: 0.3070 - val_acc: 0.9335\n"
     ]
    },
    {
     "data": {
      "text/plain": [
       "<keras.callbacks.History at 0x294ec465240>"
      ]
     },
     "execution_count": 24,
     "metadata": {},
     "output_type": "execute_result"
    }
   ],
   "source": [
    "# Training the model\n",
    "model.fit(X_train,\n",
    "          Y_train,\n",
    "          batch_size=batch_size,\n",
    "          validation_data=(X_test, Y_test),\n",
    "          epochs=epochs)"
   ]
  },
  {
   "cell_type": "code",
   "execution_count": 25,
   "metadata": {},
   "outputs": [
    {
     "name": "stdout",
     "output_type": "stream",
     "text": [
      "Pred                LAYING  SITTING  STANDING  WALKING  WALKING_DOWNSTAIRS  \\\n",
      "True                                                                         \n",
      "LAYING                 537        0         0        0                   0   \n",
      "SITTING                  0      414        75        0                   0   \n",
      "STANDING                 0       80       450        2                   0   \n",
      "WALKING                  0        0         0      463                   8   \n",
      "WALKING_DOWNSTAIRS       0        0         0        1                 419   \n",
      "WALKING_UPSTAIRS         0        0         1        2                   0   \n",
      "\n",
      "Pred                WALKING_UPSTAIRS  \n",
      "True                                  \n",
      "LAYING                             0  \n",
      "SITTING                            2  \n",
      "STANDING                           0  \n",
      "WALKING                           25  \n",
      "WALKING_DOWNSTAIRS                 0  \n",
      "WALKING_UPSTAIRS                 468  \n"
     ]
    }
   ],
   "source": [
    "# Confusion Matrix\n",
    "print(confusion_matrix(Y_test, model.predict(X_test)))"
   ]
  },
  {
   "cell_type": "code",
   "execution_count": 26,
   "metadata": {},
   "outputs": [
    {
     "name": "stdout",
     "output_type": "stream",
     "text": [
      "2947/2947 [==============================] - 2s 632us/step\n"
     ]
    }
   ],
   "source": [
    "score = model.evaluate(X_test, Y_test)"
   ]
  },
  {
   "cell_type": "code",
   "execution_count": 27,
   "metadata": {},
   "outputs": [
    {
     "data": {
      "text/plain": [
       "[0.30697344534226023, 0.9334916864608076]"
      ]
     },
     "execution_count": 27,
     "metadata": {},
     "output_type": "execute_result"
    }
   ],
   "source": [
    "score"
   ]
  },
  {
   "cell_type": "markdown",
   "metadata": {},
   "source": [
    "<h2>Conclusion: I got the accuracy of 93.35% with loss is equal to 0.30</h2>"
   ]
  }
 ],
 "metadata": {
  "kernelspec": {
   "display_name": "Python 3",
   "language": "python",
   "name": "python3"
  },
  "language_info": {
   "codemirror_mode": {
    "name": "ipython",
    "version": 3
   },
   "file_extension": ".py",
   "mimetype": "text/x-python",
   "name": "python",
   "nbconvert_exporter": "python",
   "pygments_lexer": "ipython3",
   "version": "3.7.1"
  }
 },
 "nbformat": 4,
 "nbformat_minor": 2
}
